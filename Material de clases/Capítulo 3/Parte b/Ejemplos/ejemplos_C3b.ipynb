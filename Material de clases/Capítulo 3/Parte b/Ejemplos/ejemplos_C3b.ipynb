{
  "cells": [
    {
      "cell_type": "markdown",
      "metadata": {
        "id": "7HwdkXc23WwM"
      },
      "source": [
        "<p>\n",
        "<font size='5' face='Georgia, Arial'>IIC2115 - Programación como herramienta para la ingeniería</font><br>\n",
        "</p>"
      ]
    },
    {
      "cell_type": "markdown",
      "source": [
        "(no es necesario instalar `networkx` en Colab)"
      ],
      "metadata": {
        "id": "-P1TtE_83wjn"
      }
    },
    {
      "cell_type": "code",
      "execution_count": null,
      "metadata": {
        "id": "1Jpw3sip3WwY"
      },
      "outputs": [],
      "source": [
        "import networkx as nx\n",
        "import matplotlib.pyplot as plt"
      ]
    },
    {
      "cell_type": "code",
      "source": [
        "plt.rcParams['figure.figsize'] = [15, 10]\n",
        "plt.rcParams.update({'font.size': 16})"
      ],
      "metadata": {
        "id": "XI4oH4tz3724"
      },
      "execution_count": null,
      "outputs": []
    },
    {
      "cell_type": "code",
      "source": [
        "G = nx.Graph()"
      ],
      "metadata": {
        "id": "VSW-y_WQ3-59"
      },
      "execution_count": null,
      "outputs": []
    },
    {
      "cell_type": "code",
      "execution_count": null,
      "metadata": {
        "id": "vRncGETc3Wwd"
      },
      "outputs": [],
      "source": [
        "# Agregamos un solo nodo\n",
        "G.add_node(1)\n",
        "\n",
        "# Agregamos una lista de nodos\n",
        "G.add_nodes_from([2, 3])\n",
        "\n",
        "# Agregamos una lista de tuplas de nodos con atributos -> (nodo, dict de atributos)\n",
        "G.add_nodes_from([(4, {'nombre': 'Santiago'}),\n",
        "                  (5, {'nombre': 'Valparaíso'})])"
      ]
    },
    {
      "cell_type": "code",
      "execution_count": null,
      "metadata": {
        "id": "vP7hrAvI3Wwg"
      },
      "outputs": [],
      "source": [
        "# Agregamos un arco entre el nodo 1 y el nodo 2\n",
        "G.add_edge(1, 2)\n",
        "\n",
        "# Agregamos un arco entre el nodo 2 y 3 alamcenado en una tupla\n",
        "e = (2, 3)\n",
        "G.add_edge(*e) # <-- Asi desempaquetamos una tupla como inputs\n",
        "\n",
        "# Agregamos un arco 1->2 y 1->3 desde una lista\n",
        "G.add_edges_from([(2, 4), (3, 5), (3,1)])"
      ]
    },
    {
      "cell_type": "code",
      "execution_count": null,
      "metadata": {
        "id": "0po_nmu_3Wwl"
      },
      "outputs": [],
      "source": [
        "nx.draw(G, with_labels=True, font_weight='bold')"
      ]
    },
    {
      "cell_type": "markdown",
      "metadata": {
        "id": "J3qKlIX13Wwn"
      },
      "source": [
        "(para utilizar `OpenStreetMap` en Colab, es necesario instalarla antes con `pip`)"
      ]
    },
    {
      "cell_type": "code",
      "execution_count": null,
      "metadata": {
        "id": "rMzJ_r_F3Wwp"
      },
      "outputs": [],
      "source": [
        "!pip install osmnx"
      ]
    },
    {
      "cell_type": "code",
      "execution_count": null,
      "metadata": {
        "id": "g_nkNz-I3Wwx"
      },
      "outputs": [],
      "source": [
        "import osmnx as ox"
      ]
    },
    {
      "cell_type": "code",
      "execution_count": null,
      "metadata": {
        "id": "Fb2VMe7I3Wwx"
      },
      "outputs": [],
      "source": [
        "mapa_macul = ox.graph.graph_from_place('Macul, Chile', network_type = 'all_private')"
      ]
    },
    {
      "cell_type": "code",
      "source": [
        "ox.plot_graph(mapa_macul, figsize = (15, 15), bgcolor = 'w', node_color = 'red', edge_color = 'black', node_alpha = 0) "
      ],
      "metadata": {
        "id": "Oc6d7pgN6E5U"
      },
      "execution_count": null,
      "outputs": []
    },
    {
      "cell_type": "markdown",
      "source": [
        "### Ejemplo 1: obtener la ruta que va desde los extremos nororiente al surponiente de la comuna de Macul"
      ],
      "metadata": {
        "id": "WHGgf-TLE7BS"
      }
    },
    {
      "cell_type": "markdown",
      "source": [
        "Obtenemos las coordenadas de algún lado, por ejemplo, de Google Maps"
      ],
      "metadata": {
        "id": "gwu1oTzoiJZG"
      }
    },
    {
      "cell_type": "code",
      "execution_count": null,
      "metadata": {
        "id": "TEsqgFWs3Ww0"
      },
      "outputs": [],
      "source": [
        "# valores obtenido de Google Maps, en orden x,y (long, lat)\n",
        "\n",
        "NO=(-70.577627, -33.470984)\n",
        "SP=(-70.613652, -33.507677)"
      ]
    },
    {
      "cell_type": "markdown",
      "source": [
        "A partir de las coordnadas, obtenemos los nodos de la red más cercanos a ellas"
      ],
      "metadata": {
        "id": "KMFpISvhiVqn"
      }
    },
    {
      "cell_type": "code",
      "source": [
        "orig_node = ox.distance.nearest_nodes(mapa_macul, NO[0], NO[1])\n",
        "dest_node = ox.distance.nearest_nodes(mapa_macul, SP[0], SP[1])"
      ],
      "metadata": {
        "id": "73p8ylwAAPrf"
      },
      "execution_count": null,
      "outputs": []
    },
    {
      "cell_type": "markdown",
      "source": [
        "A continuación obtenemos la ruta óptima y luego la ploteamos"
      ],
      "metadata": {
        "id": "9x2P1c2UifU9"
      }
    },
    {
      "cell_type": "code",
      "execution_count": null,
      "metadata": {
        "id": "6AFDl7933Ww2"
      },
      "outputs": [],
      "source": [
        "ruta_minima = nx.shortest_path(mapa_macul, orig_node, dest_node, weight = 'length')\n",
        "ox.plot_graph_route(mapa_macul, ruta_minima, node_size = 5, figsize=(15,15), bgcolor = 'w', node_color = 'blue', edge_color = 'black', route_linewidth=10)"
      ]
    },
    {
      "cell_type": "markdown",
      "source": [
        "Finalmente, obtenemos el largo de la ruta, para tener una referencia"
      ],
      "metadata": {
        "id": "Y10Bwro2imo9"
      }
    },
    {
      "cell_type": "code",
      "source": [
        "largo_optimo = nx.shortest_path_length(mapa_macul, orig_node, dest_node, weight = 'length')\n",
        "print(f'El largo de la ruta óptima es {largo_optimo} metros (unidad por defecto en osmnx).')"
      ],
      "metadata": {
        "id": "ykulYP2wFx5N"
      },
      "execution_count": null,
      "outputs": []
    },
    {
      "cell_type": "markdown",
      "source": [
        "### Ejemplo 2: obtener la ruta que va desde los extremos nororiente al surponiente de la comuna de Macul, pasando por el centroide de esta."
      ],
      "metadata": {
        "id": "9RnScyavHoX7"
      }
    },
    {
      "cell_type": "markdown",
      "source": [
        "Si los datos geográficos aún están comprimidos, este es el momento de descomprimirlos y cargarlos"
      ],
      "metadata": {
        "id": "sdgVeQQfiy3i"
      }
    },
    {
      "cell_type": "code",
      "source": [
        "!unzip data.zip"
      ],
      "metadata": {
        "id": "BnQ1LPGhEkgL"
      },
      "execution_count": null,
      "outputs": []
    },
    {
      "cell_type": "code",
      "source": [
        "import geopandas as gpd #se instala con osmnx"
      ],
      "metadata": {
        "id": "dpowS5nSEt_J"
      },
      "execution_count": null,
      "outputs": []
    },
    {
      "cell_type": "code",
      "source": [
        "distritos = gpd.read_file('data/Distritos Censales/Distritos Censales RM.shp')\n",
        "area_urbana = gpd.read_file('data/Areas Urbanas/areas_urbanas.shp')"
      ],
      "metadata": {
        "id": "4gcCsEolF35N"
      },
      "execution_count": null,
      "outputs": []
    },
    {
      "cell_type": "markdown",
      "source": [
        "Similar a como lo hicimos anteriormente, interesectamos los `GeoDataFrame` para obtener el shape de los distritos urbanos"
      ],
      "metadata": {
        "id": "xS7oTjY5jEcV"
      }
    },
    {
      "cell_type": "code",
      "source": [
        "santiago_urbano = area_urbana.loc[area_urbana['NOMBRE']=='Santiago']\n",
        "distritos_urbanos = gpd.overlay(distritos, santiago_urbano, how='intersection')"
      ],
      "metadata": {
        "id": "6uf9VwHtFWyF"
      },
      "execution_count": null,
      "outputs": []
    },
    {
      "cell_type": "markdown",
      "source": [
        "Para obtener las comuas, agrupamos los distritos por el nombre de la comuna y luego _disolvemos_ su geometría interna, manteniendo solo sus límites"
      ],
      "metadata": {
        "id": "QvyoxogujQHE"
      }
    },
    {
      "cell_type": "code",
      "source": [
        "comunas_urbanas = distritos_urbanos.dissolve(by=\"NOM_COM\")"
      ],
      "metadata": {
        "id": "pTleU1EpFsTj"
      },
      "execution_count": null,
      "outputs": []
    },
    {
      "cell_type": "markdown",
      "source": [
        "Luego, obtener el centroide de cada comuna, basado en su geometría"
      ],
      "metadata": {
        "id": "-Mm7UCuojhin"
      }
    },
    {
      "cell_type": "code",
      "source": [
        "comunas_urbanas[\"Centroides\"] = comunas_urbanas.geometry.centroid\n",
        "comunas_urbanas.head()"
      ],
      "metadata": {
        "id": "4EE6Km7_F-SP"
      },
      "execution_count": null,
      "outputs": []
    },
    {
      "cell_type": "markdown",
      "source": [
        "A continuación, graficamos todo para ver que las comunas y sus centroides tengan sentido"
      ],
      "metadata": {
        "id": "bpkOqVGXjrQR"
      }
    },
    {
      "cell_type": "code",
      "source": [
        "ax = comunas_urbanas.plot(figsize=(15,15))\n",
        "comunas_urbanas['Centroides'].plot(ax=ax, figsize = (15,15), color = 'red', markersize = 5)"
      ],
      "metadata": {
        "id": "u3svSGC-IJGe"
      },
      "execution_count": null,
      "outputs": []
    },
    {
      "cell_type": "markdown",
      "source": [
        "¿Necesitamos hacer algo antes de usar estos centroides?"
      ],
      "metadata": {
        "id": "onPs9rA5H_0T"
      }
    },
    {
      "cell_type": "code",
      "source": [
        "comunas_urbanas.crs"
      ],
      "metadata": {
        "id": "T2Qc3n6eIwWu"
      },
      "execution_count": null,
      "outputs": []
    },
    {
      "cell_type": "markdown",
      "source": [
        "Dado que `osmnx` utiliza un esquema de (long,lat), debemos hacer una transformación del crs"
      ],
      "metadata": {
        "id": "zead3UAIkD8M"
      }
    },
    {
      "cell_type": "code",
      "source": [
        "comunas_urbanas.to_crs(\"EPSG:4326\", inplace=True)\n",
        "comunas_urbanas.head(1)"
      ],
      "metadata": {
        "id": "rPYPzR9wI3I6"
      },
      "execution_count": null,
      "outputs": []
    },
    {
      "cell_type": "markdown",
      "source": [
        "Dado que el centroide no es parte de la geometría del `GeoDataFrame`, debemos convertirlo por separado"
      ],
      "metadata": {
        "id": "RPJ0MfCTkdFq"
      }
    },
    {
      "cell_type": "code",
      "source": [
        "comunas_urbanas[\"Centroides\"] = comunas_urbanas[\"Centroides\"].to_crs(\"EPSG:4326\")\n",
        "comunas_urbanas"
      ],
      "metadata": {
        "id": "5oCDwweDGmwE"
      },
      "execution_count": null,
      "outputs": []
    },
    {
      "cell_type": "markdown",
      "source": [
        "Teniendo ya la toda la información, extraemos el centroide de Macul y construimos la dos rutas utilizando los mismo métodos que antes"
      ],
      "metadata": {
        "id": "5Zn_zp-rkxT8"
      }
    },
    {
      "cell_type": "code",
      "source": [
        "macul = comunas_urbanas.loc['Macul']\n",
        "centroide_macul = ox.distance.nearest_nodes(mapa_macul, macul['Centroides'].x, macul['Centroides'].y)"
      ],
      "metadata": {
        "id": "9JmDyIEcHhMk"
      },
      "execution_count": null,
      "outputs": []
    },
    {
      "cell_type": "code",
      "source": [
        "ruta_NO_centroide = nx.shortest_path(mapa_macul, orig_node, centroide_macul, weight = 'length')\n",
        "ruta_centroide_SP = nx.shortest_path(mapa_macul, centroide_macul, dest_node, weight = 'length')"
      ],
      "metadata": {
        "id": "8mASmQzhb0Rh"
      },
      "execution_count": null,
      "outputs": []
    },
    {
      "cell_type": "markdown",
      "source": [
        "Finalmente, graficamos ambas rutas en un mapa de forma simultánea"
      ],
      "metadata": {
        "id": "OWIiUKVtlJkz"
      }
    },
    {
      "cell_type": "code",
      "source": [
        "ruta_final = [ruta_NO_centroide, ruta_centroide_SP]\n",
        "ox.plot_graph_routes(mapa_macul, ruta_final, node_size = 5, figsize=(15,15), route_colors=[\"r\", \"g\"], bgcolor = 'w', node_color = 'blue', edge_color = 'black', route_linewidths=10)"
      ],
      "metadata": {
        "id": "CyzuNpQFZuU_"
      },
      "execution_count": null,
      "outputs": []
    },
    {
      "cell_type": "markdown",
      "source": [
        "Al obtener los largos, podemos notar que la ruta del centroide es algo más larga que la óptima"
      ],
      "metadata": {
        "id": "24fvG24slR1p"
      }
    },
    {
      "cell_type": "code",
      "source": [
        "largo_ruta_centroide = nx.shortest_path_length(mapa_macul, orig_node, centroide_macul, weight = 'length') + \\\n",
        "                        nx.shortest_path_length(mapa_macul, centroide_macul, dest_node, weight = 'length')\n",
        "print(f'El largo de la ruta del centroide es {largo_ruta_centroide} metros y el de la ruta óptima es {largo_optimo} metros.')"
      ],
      "metadata": {
        "id": "WferObK1dw34"
      },
      "execution_count": null,
      "outputs": []
    }
  ],
  "metadata": {
    "interpreter": {
      "hash": "432ee9dc30be07d38c29275a8ba4708057635a20469ddd67f0dfa942a950c372"
    },
    "kernelspec": {
      "display_name": "Python 3.8.6 64-bit",
      "name": "python3"
    },
    "language_info": {
      "name": "python",
      "version": ""
    },
    "colab": {
      "name": "01 - Manejo de redes.ipynb",
      "provenance": [],
      "collapsed_sections": []
    }
  },
  "nbformat": 4,
  "nbformat_minor": 0
}