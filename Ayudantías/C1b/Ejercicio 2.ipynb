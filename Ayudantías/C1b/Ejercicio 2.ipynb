{
 "cells": [
  {
   "cell_type": "markdown",
   "metadata": {
    "id": "akL_ZKvnauqk"
   },
   "source": [
    "# Pauta taller T1b Semestre 2021-2\n",
    "\n",
    "\n",
    "## IIC2115 - Programación Como Herramienta para la Ingeniería\n",
    "\n",
    "## Ayudante: Matías Villafranca"
   ]
  },
  {
   "cell_type": "markdown",
   "metadata": {
    "id": "Y69nWMSXauq1"
   },
   "source": [
    "### Ejercicio 1"
   ]
  },
  {
   "cell_type": "code",
   "execution_count": 2,
   "metadata": {
    "executionInfo": {
     "elapsed": 1234,
     "status": "ok",
     "timestamp": 1648133294203,
     "user": {
      "displayName": "FELIPE FUENTES",
      "photoUrl": "https://lh3.googleusercontent.com/a/default-user=s64",
      "userId": "02083326022162670329"
     },
     "user_tz": 180
    },
    "id": "xy8X_ixPauq-"
   },
   "outputs": [],
   "source": [
    "#Aca trabajo con la lista arcos sin alterar\n",
    "## los comentarios con ## fueron agregados pos ayudantia.\n",
    "## LEAN EL ULTIMO EJERCICIO QUE EN LA AYUDANTIA HUBO UN ERROR EN LA EXPLICACIÖN QUE DI (EL DE NUMEROS DUPLICADOS)\n",
    "class Verificador_Lista: \n",
    "    \n",
    "    def __init__(self, arcos):\n",
    "        ## Guardamos los arcos\n",
    "        ## El contador ve el numero de iteraciones \n",
    "        self.arcos = arcos\n",
    "        self.contador = 0\n",
    "        \n",
    "    def existe_camino(self,camino):\n",
    "        for i in range(1,len(camino)):\n",
    "            #veo los nodos que quiero conectar\n",
    "            ## Seleccionamos dos nodos con un arco dentro del camino buscado.\n",
    "            \n",
    "            Origen=camino[i-1]\n",
    "            Destino=camino[i]\n",
    "            Estan_conectados=False\n",
    "            j=0\n",
    "            while Estan_conectados==False:\n",
    "                \n",
    "                #reviso_los_arcos uno por uno (podria ser un for tambien)\n",
    "                ## seleccionamos un arco de la lista con los arcos disponibles.\n",
    "                \n",
    "                Arco=self.arcos[j]\n",
    "                self.contador += 1\n",
    "                \n",
    "                #si estan conectados, paso a ver el siguiente par de nodos que deseo conectar\n",
    "                ## aqui se revisa si existe el arco del camino en la lista de arcos disponibles.\n",
    "                if ((Origen,Destino)==Arco or (Destino,Origen)==Arco):\n",
    "                    Estan_conectados=True\n",
    "                #sino, veo el siguiente arco de los posibles\n",
    "                else:\n",
    "                    \n",
    "                    #Si ya revise todos los arcos y ninguno conecta, entrego que no es posible hacer el camino\n",
    "                    if j==len(self.arcos)-1:\n",
    "                        return (False,self.contador)\n",
    "                    j +=1\n",
    "                    \n",
    "        return (True,self.contador)"
   ]
  },
  {
   "cell_type": "markdown",
   "metadata": {
    "id": "W8-wY9PY-sJO"
   },
   "source": [
    "# La celda de abajo es lo único que se evaluaba en el avance parcial (T1b)"
   ]
  },
  {
   "cell_type": "code",
   "execution_count": 3,
   "metadata": {
    "executionInfo": {
     "elapsed": 5,
     "status": "ok",
     "timestamp": 1648133297305,
     "user": {
      "displayName": "FELIPE FUENTES",
      "photoUrl": "https://lh3.googleusercontent.com/a/default-user=s64",
      "userId": "02083326022162670329"
     },
     "user_tz": 180
    },
    "id": "WX0_6fUpaurD"
   },
   "outputs": [],
   "source": [
    "#Aca tengo un diccionario que guarda los arcos\n",
    "class Verificador_Diccionario: \n",
    "    \n",
    "    def __init__(self, arcos):\n",
    "        self.arcos = arcos\n",
    "        self.contador = 0\n",
    "        self.diccionario={}\n",
    "    \n",
    "    def llenado_diccionario(self):\n",
    "        ## la información con la lista de arcos, se pasa ahora como keys en un diccionario\n",
    "        \n",
    "        for i in range(len(self.arcos)):\n",
    "            Arco=self.arcos[i]\n",
    "            self.diccionario[Arco]=True\n",
    "    \n",
    "    def existe_camino(self,camino):\n",
    "        \n",
    "        ## creamos el diccionario con el metodo llenado_diccionario()\n",
    "        \n",
    "        self.llenado_diccionario()\n",
    "        for i in range(1,len(camino)):\n",
    "            \n",
    "            ## Seleccionamos dos nodos con un arco dentro del camino buscado.\n",
    "            \n",
    "            Origen=camino[i-1]\n",
    "            Destino=camino[i]\n",
    "            self.contador +=2 # La operación de abajo son dos iteraciones, por eso debe ser +=2!!\n",
    "            \n",
    "            ## Como las keys del diccionario son los arcos disponibles, buscamos si la tupla de \n",
    "            ## nodos (arco) son keys del diccionario\n",
    "            if (Origen,Destino) not in self.diccionario and (Destino,Origen) not in self.diccionario:\n",
    "                ## sino esta, entonces no se existe el camino entregado.\n",
    "                return(False, self.contador)\n",
    "            \n",
    "            \n",
    "        #Si recorri mi for y siempre estuve conectado\n",
    "        return  (True, self.contador)\n",
    "            "
   ]
  },
  {
   "cell_type": "code",
   "execution_count": 4,
   "metadata": {
    "executionInfo": {
     "elapsed": 474,
     "status": "ok",
     "timestamp": 1648133298182,
     "user": {
      "displayName": "FELIPE FUENTES",
      "photoUrl": "https://lh3.googleusercontent.com/a/default-user=s64",
      "userId": "02083326022162670329"
     },
     "user_tz": 180
    },
    "id": "Uf4KaZ7TaurJ"
   },
   "outputs": [],
   "source": [
    "#Misma estructura de diccionario que el anterior, salvo que ahora en vez de usar un True entrega cuantas veces use el arco\n",
    "\n",
    "## En la clase verificador_diccionario anterior, las keys del diccionario tenian valor True, ahora se hace el conteo ahi \n",
    "## de la cantidad de veces que use un arco en el camino.\n",
    "\n",
    "class Verificador_Diccionario_opcional: \n",
    "    \n",
    "    def __init__(self, arcos):\n",
    "        self.arcos = arcos\n",
    "        self.contador = 0\n",
    "        self.diccionario={}\n",
    "    \n",
    "    def llenado_diccionario(self):\n",
    "        for i in range(len(self.arcos)):\n",
    "            Arco=self.arcos[i]\n",
    "            self.diccionario[Arco]=0\n",
    "    \n",
    "    def existe_camino(self,camino):\n",
    "        self.llenado_diccionario()\n",
    "        for i in range(1,len(camino)):\n",
    "            Origen=camino[i-1]\n",
    "            Destino=camino[i]\n",
    "            self.contador +=2 # La operación de abajo son dos iteraciones, por eso debe ser +=2!!\n",
    "            if (Origen,Destino) in self.diccionario or (Destino,Origen) in self.diccionario:\n",
    "                if (Origen,Destino) in self.diccionario:\n",
    "                    self.diccionario[(Origen,Destino)] +=1\n",
    "                else:\n",
    "                    self.diccionario[(Destino,Origen)] +=1\n",
    "            else:\n",
    "                print(Origen,Destino)\n",
    "                return(False, self.contador)\n",
    "\n",
    "        #Si recorri mi for y siempre estuve conectado\n",
    "        return  (True, self.contador,max(self.diccionario, key=self.diccionario.get))\n",
    "            "
   ]
  },
  {
   "cell_type": "code",
   "execution_count": 5,
   "metadata": {
    "colab": {
     "base_uri": "https://localhost:8080/"
    },
    "executionInfo": {
     "elapsed": 8,
     "status": "ok",
     "timestamp": 1648133298605,
     "user": {
      "displayName": "FELIPE FUENTES",
      "photoUrl": "https://lh3.googleusercontent.com/a/default-user=s64",
      "userId": "02083326022162670329"
     },
     "user_tz": 180
    },
    "id": "4XB109rdaurL",
    "outputId": "a4124bc8-4b20-41ae-8b6c-f523aa464091"
   },
   "outputs": [
    {
     "name": "stdout",
     "output_type": "stream",
     "text": [
      "(True, 21)\n",
      "(True, 10)\n"
     ]
    }
   ],
   "source": [
    "arcos = [(\"A\",\"B\"), (\"A\",\"E\"),(\"A\",\"C\"), (\"B\",\"D\"),(\"B\",\"E\"),\n",
    "(\"C\",\"F\"),(\"C\",\"G\"), (\"D\",\"E\"), (\"E\",\"F\")]\n",
    "camino = [\"A\",\"C\",\"F\",\"E\",\"A\",\"B\"]\n",
    "verificador = Verificador_Lista(arcos)\n",
    "res = verificador.existe_camino(camino)\n",
    "print(res)\n",
    "verificador = Verificador_Diccionario(arcos)\n",
    "res = verificador.existe_camino(camino)\n",
    "print(res)\n"
   ]
  },
  {
   "cell_type": "markdown",
   "metadata": {
    "id": "8fHGK2cQaurP"
   },
   "source": [
    "### Ejercicio 2"
   ]
  },
  {
   "cell_type": "code",
   "execution_count": 6,
   "metadata": {
    "executionInfo": {
     "elapsed": 441,
     "status": "ok",
     "timestamp": 1648133302880,
     "user": {
      "displayName": "FELIPE FUENTES",
      "photoUrl": "https://lh3.googleusercontent.com/a/default-user=s64",
      "userId": "02083326022162670329"
     },
     "user_tz": 180
    },
    "id": "SLTN_1m6aurR"
   },
   "outputs": [],
   "source": [
    "def eliminar_duplicados(n):\n",
    "    ## Se pasa a string el numero para manejarlo por unidad\n",
    "    \n",
    "    codigo=str(n)\n",
    "    \n",
    "    ## se crea una lista para registrar los numeros que ya han aparecido.\n",
    "    \n",
    "    numeros_entontrados = {}\n",
    "    \n",
    "    ## Va contando en que unidad del numero vamos.\n",
    "    ## En la ayudantia me equivoque al explicar esta parte del codigo\n",
    "    ## a continuación explico como realmente funciona.\n",
    "    \n",
    "    \n",
    "    ## Numero final va registrando el valor final del numero que buscamos (el numero sin repetidos)\n",
    "    \n",
    "    numero_final=0\n",
    "    \n",
    "    ## recorremos el string del numero por unidad \n",
    "    for numero in codigo:\n",
    "        \n",
    "        ## revisamos si ya se encontro el numero, esta parte es la que se asegura de eliminar\n",
    "        ## los duplicados\n",
    "        if numero not in numeros_entontrados:\n",
    "            ## sino se encontro se registra\n",
    "    \n",
    "            numeros_entontrados[numero]=True\n",
    "            \n",
    "            ## se multiplica el numero actual por *10, es decir que se desplaza el numero.\n",
    "            ## Ejemplos: un 1 pasa a ser un 1 pasa a ser un 10, un 2 a un 20, un 124 a un 1240, etc.\n",
    "            numero_final *=10\n",
    "            \n",
    "            ## luego se suma el numero nuevo encontrado al numero final\n",
    "            \n",
    "            ## De esta forma estamos agregando los numeros nuevos siempre a la derecha.\n",
    "            \n",
    "            numero_final += int(numero)\n",
    "    return numero_final"
   ]
  },
  {
   "cell_type": "code",
   "execution_count": 7,
   "metadata": {
    "colab": {
     "base_uri": "https://localhost:8080/"
    },
    "executionInfo": {
     "elapsed": 6,
     "status": "ok",
     "timestamp": 1648133303325,
     "user": {
      "displayName": "FELIPE FUENTES",
      "photoUrl": "https://lh3.googleusercontent.com/a/default-user=s64",
      "userId": "02083326022162670329"
     },
     "user_tz": 180
    },
    "id": "sqXgzDeQaurT",
    "outputId": "59664659-f3c4-4acc-aa54-1eca32e2bcac"
   },
   "outputs": [
    {
     "name": "stdout",
     "output_type": "stream",
     "text": [
      "124\n"
     ]
    }
   ],
   "source": [
    "n = 1242241\n",
    "n_ = eliminar_duplicados(n)\n",
    "print(n_)"
   ]
  },
  {
   "cell_type": "code",
   "execution_count": null,
   "metadata": {
    "id": "0iuniywmcvrV"
   },
   "outputs": [],
   "source": []
  }
 ],
 "metadata": {
  "colab": {
   "collapsed_sections": [],
   "name": "T1b_pauta.ipynb",
   "provenance": []
  },
  "kernelspec": {
   "display_name": "Python 3",
   "language": "python",
   "name": "python3"
  },
  "language_info": {
   "codemirror_mode": {
    "name": "ipython",
    "version": 3
   },
   "file_extension": ".py",
   "mimetype": "text/x-python",
   "name": "python",
   "nbconvert_exporter": "python",
   "pygments_lexer": "ipython3",
   "version": "3.7.8"
  }
 },
 "nbformat": 4,
 "nbformat_minor": 1
}
