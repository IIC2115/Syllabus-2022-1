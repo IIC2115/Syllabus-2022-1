{
  "cells": [
    {
      "cell_type": "markdown",
      "id": "8ba5d236",
      "metadata": {
        "id": "8ba5d236"
      },
      "source": [
        "# <u><h><center> Pauta C4a</center></h></u>\n",
        "## IIC2115 - Programación Como Herramienta para la Ingeniería\n",
        "### Ayudante: Felipe Fuentes"
      ]
    },
    {
      "cell_type": "markdown",
      "id": "1f46d111",
      "metadata": {
        "id": "1f46d111"
      },
      "source": [
        "#### Misión 1"
      ]
    },
    {
      "cell_type": "code",
      "execution_count": null,
      "id": "0cd592a0",
      "metadata": {
        "id": "0cd592a0"
      },
      "outputs": [],
      "source": [
        "import sqlite3  # importamos el módulo de sqlite\n",
        "\n",
        "connection = sqlite3.connect('futbol.db') \n",
        "            \n",
        "# Generamos un cursor al contenido de la base de datos, lo que nos permite \n",
        "# acceder al contenido de las tablas y a realizar consultas sobre ellas.   \n",
        "cursor = connection.cursor()                    \n",
        "\n",
        "# Creamos las tablas:\n",
        "\n",
        "cursor.execute(\"CREATE TABLE Equipos(eid INTEGER PRIMARY KEY, nombre TEXT UNIQUE)\")\n",
        "cursor.execute(\"CREATE TABLE Temporadas(tid INTEGER PRIMARY KEY, ano INTEGER UNIQUE)\")\n",
        "cursor.execute(\"CREATE TABLE Ligas(lid INTEGER PRIMARY KEY, nombre TEXT UNIQUE)\")\n",
        "\n",
        "cursor.execute(\"\"\"CREATE TABLE Partidos(pid INTEGER PRIMARY KEY, liga INTEGER, \n",
        "    temporada INTEGER, fecha DATE, equipo INTEGER, localidad TEXT, resultado TEXT,\n",
        "    puntos INTEGER, goles INTEGER, goles_perdidos INTEGER, pases_profundos INTEGER, \n",
        "    pases_profundos_permitidos INTEGER, ppda REAL, oppda REAL, \n",
        "    FOREIGN KEY (liga) REFERENCES Ligas, FOREIGN KEY (temporada) REFERENCES Temporadas, \n",
        "    FOREIGN KEY (equipo) REFERENCES Equipos)\"\"\")\n",
        "\n",
        "connection.commit()\n",
        "connection.close()"
      ]
    },
    {
      "cell_type": "code",
      "execution_count": null,
      "id": "adb48bdf",
      "metadata": {
        "id": "adb48bdf"
      },
      "outputs": [],
      "source": [
        "connection = sqlite3.connect('futbol.db')  \n",
        "cursor = connection.cursor()                    \n",
        "\n",
        "# Con esto podemos eliminar las tablas que creamos:\n",
        "\n",
        "cursor.execute(\"DROP TABLE IF EXISTS  Equipos\")\n",
        "cursor.execute(\"DROP TABLE IF EXISTS Temporadas\")\n",
        "cursor.execute(\"DROP TABLE IF EXISTS  Ligas\")\n",
        "cursor.execute(\"DROP TABLE IF EXISTS  Partidos\")\n",
        "\n",
        "connection.commit() \n",
        "connection.close()"
      ]
    },
    {
      "cell_type": "markdown",
      "id": "b3a183fd",
      "metadata": {
        "id": "b3a183fd"
      },
      "source": [
        "Misión 2"
      ]
    },
    {
      "cell_type": "code",
      "execution_count": null,
      "id": "7c142095",
      "metadata": {
        "id": "7c142095"
      },
      "outputs": [],
      "source": [
        "#importamos los datos\n",
        "\n",
        "import json\n",
        "with open('football_results.json', encoding = 'utf8') as movies_file:\n",
        "    partidos = json.load(movies_file)\n"
      ]
    },
    {
      "cell_type": "code",
      "execution_count": null,
      "id": "81419d98",
      "metadata": {
        "id": "81419d98"
      },
      "outputs": [],
      "source": [
        "#insertamos los datos\n",
        "\n",
        "connection = sqlite3.connect('futbol.db')\n",
        "cursor = connection.cursor()\n",
        "\n",
        "eid = 1\n",
        "tid = 1\n",
        "lid = 1\n",
        "pid = 1\n",
        "dicc_equipos= {}\n",
        "dicc_season= {}\n",
        "dicc_ligas= {}\n",
        "\n",
        "\n",
        "#el orden de inserción es importante, fijarse en crear primero las tablas a las que se les \n",
        "#va a hacer referencia por medio de foreign keys\n",
        "for partido in partidos:\n",
        "    \n",
        "    if not partido[\"team\"] in dicc_equipos:\n",
        "        cursor.execute(\"INSERT INTO Equipos(eid, nombre) VALUES (?,?)\", (eid, partido[\"team\"]))\n",
        "        dicc_equipos[partido[\"team\"]]= eid\n",
        "        eid+=1\n",
        "        \n",
        "    if not partido[\"league\"] in dicc_ligas:\n",
        "        cursor.execute(\"INSERT INTO Ligas(lid, nombre) VALUES (?,?)\", (lid, partido[\"league\"]))\n",
        "        dicc_ligas[partido[\"league\"]]= lid\n",
        "        lid+=1\n",
        "            \n",
        "    if not partido[\"season\"] in dicc_season:\n",
        "        cursor.execute(\"INSERT INTO Temporadas(tid, ano) VALUES (?,?)\", (tid, partido[\"season\"]))\n",
        "        dicc_season[partido[\"season\"]]= tid\n",
        "        tid+=1\n",
        "        \n",
        "    cursor.execute(\"INSERT INTO Partidos(pid, liga, temporada, fecha, equipo, localidad, resultado, puntos, goles, goles_perdidos, pases_profundos, pases_profundos_permitidos,ppda, oppda) VALUES (?,?,?,?,?,?,?,?,?,?,?,?,?,?)\", (pid, dicc_ligas[partido[\"league\"]], dicc_season[partido[\"season\"]], partido[\"date\"], dicc_equipos[partido[\"team\"]], partido[\"h_a\"], partido[\"result\"], partido[\"pts\"],partido[\"goals_scored\"], partido[\"goals_missed\"], partido[\"deep_passes\"], partido[\"deep_passes_allowed\"], partido[\"ppda\"], partido[\"oppda\"]))\n",
        "\n",
        "    pid += 1\n",
        "\n",
        "    \n",
        "    \n",
        "\n",
        "\n",
        "connection.commit()\n",
        "connection.close()"
      ]
    },
    {
      "cell_type": "code",
      "execution_count": null,
      "id": "1b1c9d44",
      "metadata": {
        "id": "1b1c9d44",
        "outputId": "ca9c8519-ac20-4108-a38a-6f78b82af467"
      },
      "outputs": [
        {
          "name": "stdout",
          "output_type": "stream",
          "text": [
            "Tabla:\n",
            "\n",
            "(1, 'Bayern Munich')\n",
            "(2, 'Hamburger SV')\n",
            "(3, 'Bayer Leverkusen')\n",
            "(4, 'Hoffenheim')\n",
            "(5, 'Augsburg')\n",
            "(6, 'Hertha Berlin')\n",
            "(7, 'Werder Bremen')\n",
            "(8, 'Schalke 04')\n",
            "(9, 'Mainz 05')\n",
            "(10, 'Hannover 96')\n"
          ]
        }
      ],
      "source": [
        "connection = sqlite3.connect('futbol.db')\n",
        "cursor = connection.cursor()\n",
        "\n",
        "\n",
        "cursor.execute(\"SELECT * FROM Equipos\")\n",
        "print(\"Tabla:\\n\")\n",
        "i=0\n",
        "for row in cursor.fetchall():\n",
        "    print(row)\n",
        "    i+=1\n",
        "    if i==10:\n",
        "        break\n",
        "connection.close()"
      ]
    },
    {
      "cell_type": "code",
      "execution_count": null,
      "id": "2307930f",
      "metadata": {
        "id": "2307930f"
      },
      "outputs": [],
      "source": [
        ""
      ]
    }
  ],
  "metadata": {
    "kernelspec": {
      "display_name": "Python 3 (ipykernel)",
      "language": "python",
      "name": "python3"
    },
    "language_info": {
      "codemirror_mode": {
        "name": "ipython",
        "version": 3
      },
      "file_extension": ".py",
      "mimetype": "text/x-python",
      "name": "python",
      "nbconvert_exporter": "python",
      "pygments_lexer": "ipython3",
      "version": "3.10.4"
    },
    "colab": {
      "name": "C4a.ipynb",
      "provenance": []
    }
  },
  "nbformat": 4,
  "nbformat_minor": 5
}