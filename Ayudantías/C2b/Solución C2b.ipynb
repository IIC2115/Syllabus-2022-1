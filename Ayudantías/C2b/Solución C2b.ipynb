{
 "cells": [
  {
   "cell_type": "markdown",
   "id": "8ba5d236",
   "metadata": {},
   "source": [
    "# <u><h><center> Pauta Taller 2b</center></h></u>\n",
    "## IIC2115 - Programación Como Herramienta para la Ingeniería\n",
    "### Ayudante: Felipe Fuentes"
   ]
  },
  {
   "cell_type": "code",
   "execution_count": 1,
   "id": "afe30201",
   "metadata": {},
   "outputs": [],
   "source": [
    "import pandas as pd\n",
    "import numpy as np\n",
    "\n",
    "from sklearn.model_selection import train_test_split\n",
    "from sklearn.preprocessing import StandardScaler"
   ]
  },
  {
   "cell_type": "code",
   "execution_count": 2,
   "id": "1949bf20",
   "metadata": {},
   "outputs": [
    {
     "name": "stdout",
     "output_type": "stream",
     "text": [
      "<class 'pandas.core.frame.DataFrame'>\n",
      "RangeIndex: 344 entries, 0 to 343\n",
      "Data columns (total 8 columns):\n",
      " #   Column             Non-Null Count  Dtype  \n",
      "---  ------             --------------  -----  \n",
      " 0   Unnamed: 0         344 non-null    int64  \n",
      " 1   species            344 non-null    object \n",
      " 2   island             344 non-null    object \n",
      " 3   culmen_length_mm   342 non-null    float64\n",
      " 4   culmen_depth_mm    342 non-null    float64\n",
      " 5   flipper_length_mm  308 non-null    float64\n",
      " 6   body_mass_g        342 non-null    float64\n",
      " 7   sex                334 non-null    object \n",
      "dtypes: float64(4), int64(1), object(3)\n",
      "memory usage: 21.6+ KB\n"
     ]
    }
   ],
   "source": [
    "df_pinguinos = pd.read_csv(\"penguins.csv\")\n",
    "df_pinguinos.info()"
   ]
  },
  {
   "cell_type": "code",
   "execution_count": 3,
   "id": "487aef52",
   "metadata": {},
   "outputs": [
    {
     "data": {
      "text/plain": [
       "species               0\n",
       "island                0\n",
       "culmen_length_mm      2\n",
       "culmen_depth_mm       2\n",
       "flipper_length_mm    36\n",
       "body_mass_g           2\n",
       "sex                  10\n",
       "dtype: int64"
      ]
     },
     "execution_count": 3,
     "metadata": {},
     "output_type": "execute_result"
    }
   ],
   "source": [
    "# Veamos si tiene valores nulos\n",
    "#Eliminamos la columna unnamed\n",
    "df_pinguinos = df_pinguinos.drop('Unnamed: 0', 1)\n",
    "\n",
    "df_pinguinos.apply(lambda x: sum(x.isnull()),axis=0)"
   ]
  },
  {
   "cell_type": "code",
   "execution_count": 4,
   "id": "d6cefc46",
   "metadata": {},
   "outputs": [],
   "source": [
    "# Eliminamos las filas nulas\n",
    "df_pinguinos_not_null= df_pinguinos.copy().dropna()"
   ]
  },
  {
   "cell_type": "code",
   "execution_count": 5,
   "id": "4a0ca38b",
   "metadata": {},
   "outputs": [
    {
     "data": {
      "text/html": [
       "<div>\n",
       "<style scoped>\n",
       "    .dataframe tbody tr th:only-of-type {\n",
       "        vertical-align: middle;\n",
       "    }\n",
       "\n",
       "    .dataframe tbody tr th {\n",
       "        vertical-align: top;\n",
       "    }\n",
       "\n",
       "    .dataframe thead th {\n",
       "        text-align: right;\n",
       "    }\n",
       "</style>\n",
       "<table border=\"1\" class=\"dataframe\">\n",
       "  <thead>\n",
       "    <tr style=\"text-align: right;\">\n",
       "      <th></th>\n",
       "      <th>species</th>\n",
       "      <th>island</th>\n",
       "      <th>culmen_length_mm</th>\n",
       "      <th>culmen_depth_mm</th>\n",
       "      <th>flipper_length_mm</th>\n",
       "      <th>body_mass_g</th>\n",
       "      <th>sex</th>\n",
       "    </tr>\n",
       "  </thead>\n",
       "  <tbody>\n",
       "    <tr>\n",
       "      <th>0</th>\n",
       "      <td>Adelie</td>\n",
       "      <td>Torgersen</td>\n",
       "      <td>39.1</td>\n",
       "      <td>18.7</td>\n",
       "      <td>181.0</td>\n",
       "      <td>3750.0</td>\n",
       "      <td>MALE</td>\n",
       "    </tr>\n",
       "    <tr>\n",
       "      <th>1</th>\n",
       "      <td>Adelie</td>\n",
       "      <td>Torgersen</td>\n",
       "      <td>39.5</td>\n",
       "      <td>17.4</td>\n",
       "      <td>186.0</td>\n",
       "      <td>3800.0</td>\n",
       "      <td>FEMALE</td>\n",
       "    </tr>\n",
       "    <tr>\n",
       "      <th>2</th>\n",
       "      <td>Adelie</td>\n",
       "      <td>Torgersen</td>\n",
       "      <td>40.3</td>\n",
       "      <td>18.0</td>\n",
       "      <td>195.0</td>\n",
       "      <td>3250.0</td>\n",
       "      <td>FEMALE</td>\n",
       "    </tr>\n",
       "    <tr>\n",
       "      <th>4</th>\n",
       "      <td>Adelie</td>\n",
       "      <td>Torgersen</td>\n",
       "      <td>36.7</td>\n",
       "      <td>19.3</td>\n",
       "      <td>193.0</td>\n",
       "      <td>3450.0</td>\n",
       "      <td>FEMALE</td>\n",
       "    </tr>\n",
       "    <tr>\n",
       "      <th>5</th>\n",
       "      <td>Adelie</td>\n",
       "      <td>Torgersen</td>\n",
       "      <td>39.3</td>\n",
       "      <td>20.6</td>\n",
       "      <td>190.0</td>\n",
       "      <td>3650.0</td>\n",
       "      <td>MALE</td>\n",
       "    </tr>\n",
       "  </tbody>\n",
       "</table>\n",
       "</div>"
      ],
      "text/plain": [
       "  species     island  culmen_length_mm  culmen_depth_mm  flipper_length_mm  \\\n",
       "0  Adelie  Torgersen              39.1             18.7              181.0   \n",
       "1  Adelie  Torgersen              39.5             17.4              186.0   \n",
       "2  Adelie  Torgersen              40.3             18.0              195.0   \n",
       "4  Adelie  Torgersen              36.7             19.3              193.0   \n",
       "5  Adelie  Torgersen              39.3             20.6              190.0   \n",
       "\n",
       "   body_mass_g     sex  \n",
       "0       3750.0    MALE  \n",
       "1       3800.0  FEMALE  \n",
       "2       3250.0  FEMALE  \n",
       "4       3450.0  FEMALE  \n",
       "5       3650.0    MALE  "
      ]
     },
     "execution_count": 5,
     "metadata": {},
     "output_type": "execute_result"
    }
   ],
   "source": [
    "df_pinguinos_not_null.head()"
   ]
  },
  {
   "cell_type": "code",
   "execution_count": 6,
   "id": "257e9f67",
   "metadata": {
    "scrolled": true
   },
   "outputs": [
    {
     "data": {
      "text/html": [
       "<div>\n",
       "<style scoped>\n",
       "    .dataframe tbody tr th:only-of-type {\n",
       "        vertical-align: middle;\n",
       "    }\n",
       "\n",
       "    .dataframe tbody tr th {\n",
       "        vertical-align: top;\n",
       "    }\n",
       "\n",
       "    .dataframe thead th {\n",
       "        text-align: right;\n",
       "    }\n",
       "</style>\n",
       "<table border=\"1\" class=\"dataframe\">\n",
       "  <thead>\n",
       "    <tr style=\"text-align: right;\">\n",
       "      <th></th>\n",
       "      <th>species</th>\n",
       "      <th>island</th>\n",
       "      <th>culmen_length_mm</th>\n",
       "      <th>culmen_depth_mm</th>\n",
       "      <th>flipper_length_mm</th>\n",
       "      <th>body_mass_g</th>\n",
       "      <th>sex</th>\n",
       "    </tr>\n",
       "  </thead>\n",
       "  <tbody>\n",
       "    <tr>\n",
       "      <th>0</th>\n",
       "      <td>0</td>\n",
       "      <td>2</td>\n",
       "      <td>39.1</td>\n",
       "      <td>18.7</td>\n",
       "      <td>181.0</td>\n",
       "      <td>3750.0</td>\n",
       "      <td>2</td>\n",
       "    </tr>\n",
       "    <tr>\n",
       "      <th>1</th>\n",
       "      <td>0</td>\n",
       "      <td>2</td>\n",
       "      <td>39.5</td>\n",
       "      <td>17.4</td>\n",
       "      <td>186.0</td>\n",
       "      <td>3800.0</td>\n",
       "      <td>1</td>\n",
       "    </tr>\n",
       "    <tr>\n",
       "      <th>2</th>\n",
       "      <td>0</td>\n",
       "      <td>2</td>\n",
       "      <td>40.3</td>\n",
       "      <td>18.0</td>\n",
       "      <td>195.0</td>\n",
       "      <td>3250.0</td>\n",
       "      <td>1</td>\n",
       "    </tr>\n",
       "    <tr>\n",
       "      <th>4</th>\n",
       "      <td>0</td>\n",
       "      <td>2</td>\n",
       "      <td>36.7</td>\n",
       "      <td>19.3</td>\n",
       "      <td>193.0</td>\n",
       "      <td>3450.0</td>\n",
       "      <td>1</td>\n",
       "    </tr>\n",
       "    <tr>\n",
       "      <th>5</th>\n",
       "      <td>0</td>\n",
       "      <td>2</td>\n",
       "      <td>39.3</td>\n",
       "      <td>20.6</td>\n",
       "      <td>190.0</td>\n",
       "      <td>3650.0</td>\n",
       "      <td>2</td>\n",
       "    </tr>\n",
       "  </tbody>\n",
       "</table>\n",
       "</div>"
      ],
      "text/plain": [
       "   species  island  culmen_length_mm  culmen_depth_mm  flipper_length_mm  \\\n",
       "0        0       2              39.1             18.7              181.0   \n",
       "1        0       2              39.5             17.4              186.0   \n",
       "2        0       2              40.3             18.0              195.0   \n",
       "4        0       2              36.7             19.3              193.0   \n",
       "5        0       2              39.3             20.6              190.0   \n",
       "\n",
       "   body_mass_g  sex  \n",
       "0       3750.0    2  \n",
       "1       3800.0    1  \n",
       "2       3250.0    1  \n",
       "4       3450.0    1  \n",
       "5       3650.0    2  "
      ]
     },
     "execution_count": 6,
     "metadata": {},
     "output_type": "execute_result"
    }
   ],
   "source": [
    "from sklearn.preprocessing import LabelEncoder\n",
    "\n",
    "pinguinos_variables = ['species', 'island', 'sex']\n",
    "label_encoder = LabelEncoder()\n",
    "for i in pinguinos_variables:\n",
    "    df_pinguinos_not_null[i] = label_encoder.fit_transform(df_pinguinos_not_null[i])\n",
    "df_pinguinos_not_null.head()"
   ]
  },
  {
   "cell_type": "code",
   "execution_count": 31,
   "id": "c4da8f39",
   "metadata": {},
   "outputs": [],
   "source": [
    "#Creamos training set y test_set\n",
    "features = [\"island\",\"culmen_length_mm\",\"culmen_depth_mm\",\"flipper_length_mm\", \"body_mass_g\", \"sex\"]\n",
    "target= \"species\"\n",
    "\n",
    "train, test = train_test_split(df_pinguinos_not_null, test_size=0.3)\n",
    "training_set, train_target = train[features], train[target]\n",
    "test_set, test_target = test[features], test[target]"
   ]
  },
  {
   "cell_type": "code",
   "execution_count": 58,
   "id": "41d4a1a0",
   "metadata": {
    "scrolled": true
   },
   "outputs": [
    {
     "data": {
      "text/plain": [
       "array([[ 1.73324845, -1.62699481,  1.18871091, -0.58929375, -0.01718819,\n",
       "         0.9908706 ],\n",
       "       [-0.89478169,  0.83389299, -0.77687406,  1.4113109 ,  1.08402157,\n",
       "         0.9908706 ],\n",
       "       [ 0.41923338, -0.85679329,  2.06805156, -0.37494325, -0.07836651,\n",
       "         0.9908706 ],\n",
       "       ...,\n",
       "       [ 0.41923338, -1.06343272,  0.77490355, -0.80364425, -0.6289714 ,\n",
       "        -0.97217492],\n",
       "       [-0.89478169,  1.00296161, -1.34585918,  0.76825941,  0.50282753,\n",
       "        -0.97217492],\n",
       "       [-0.89478169, -0.68772466,  0.93008131, -0.94654458,  0.10516845,\n",
       "         0.9908706 ]])"
      ]
     },
     "execution_count": 58,
     "metadata": {},
     "output_type": "execute_result"
    }
   ],
   "source": [
    "#Normalizamos los datos\n",
    "\n",
    "scaler = StandardScaler()\n",
    "\n",
    "training_set = scaler.fit_transform(training_set)\n",
    "test_set = scaler.transform(test_set)\n",
    "\n",
    "#se usara para la dimensionalidad al final del ejercicio\n",
    "training_set_pca=  training_set\n",
    "training_targe_pca= train_target\n",
    "\n",
    "training_set"
   ]
  },
  {
   "cell_type": "code",
   "execution_count": 71,
   "id": "201913b0",
   "metadata": {},
   "outputs": [],
   "source": [
    "from sklearn import metrics\n",
    "\n",
    "#funcion que recibe los datos y el modelo (materiales del curso)\n",
    "\n",
    "def training_and_eval(model, training, test, training_target, test_target):\n",
    "    model.fit(training, training_target)\n",
    "    predictions = model.predict(test)\n",
    "    print(predictions)\n",
    "    print(test_target)\n",
    "    accuracy = metrics.accuracy_score(predictions, test_target)\n",
    "    print(f\"Accuracy: {accuracy: .2}\")\n",
    "    test_mse = metrics.mean_squared_error(predictions, test_target)\n",
    "    print(f\"MSE: {test_mse}\")\n",
    "    "
   ]
  },
  {
   "cell_type": "markdown",
   "id": "5997e977",
   "metadata": {},
   "source": [
    "## Modelos predictivos"
   ]
  },
  {
   "cell_type": "code",
   "execution_count": 72,
   "id": "e635f10a",
   "metadata": {},
   "outputs": [
    {
     "name": "stdout",
     "output_type": "stream",
     "text": [
      "[1 1 2 2 2 2 1 0 1 2 0 0 1 1 2 2 2 2 0 2 0 0 0 0 0 2 0 0 2 0 0 1 2 0 1 0 0\n",
      " 1 0 0 0 0 0 0 0 1 2 1 2 0 0 0 1 2 2 1 0 0 0 1 2 1 1 0 1 2 1 1 0 0 1 2 2 0\n",
      " 0 2 0 0 2 2 1 2 2 0 0 1 0 2 0 2 2]\n",
      "165    1\n",
      "209    1\n",
      "263    2\n",
      "313    2\n",
      "330    2\n",
      "      ..\n",
      "20     0\n",
      "225    2\n",
      "108    0\n",
      "317    2\n",
      "307    2\n",
      "Name: species, Length: 91, dtype: int32\n",
      "Accuracy:  0.92\n",
      "MSE: 0.07692307692307693\n"
     ]
    }
   ],
   "source": [
    "from sklearn.tree import DecisionTreeClassifier\n",
    "\n",
    "target = 'species'\n",
    "model = DecisionTreeClassifier()\n",
    "training_and_eval(model, training_set, test_set, train_target, test_target)"
   ]
  },
  {
   "cell_type": "code",
   "execution_count": 11,
   "id": "9b2fce5a",
   "metadata": {},
   "outputs": [
    {
     "name": "stdout",
     "output_type": "stream",
     "text": [
      "Accuracy:  0.99\n",
      "MSE: 0.01098901098901099\n"
     ]
    }
   ],
   "source": [
    "from sklearn.svm import SVC\n",
    "\n",
    "model = SVC()\n",
    "training_and_eval(model, training_set, test_set, train_target, test_target)\n",
    "\n",
    "#este valor lo ocuparemos para el grafico del final del ejercicio."
   ]
  },
  {
   "cell_type": "code",
   "execution_count": 12,
   "id": "c60db94a",
   "metadata": {},
   "outputs": [
    {
     "name": "stdout",
     "output_type": "stream",
     "text": [
      "Accuracy:  0.99\n",
      "MSE: 0.01098901098901099\n"
     ]
    }
   ],
   "source": [
    "from sklearn.neighbors import KNeighborsClassifier\n",
    "\n",
    "model = KNeighborsClassifier()\n",
    "training_and_eval(model, training_set, test_set, train_target, test_target)"
   ]
  },
  {
   "cell_type": "markdown",
   "id": "b0b31ac5",
   "metadata": {},
   "source": [
    "## Predecir los valores faltantes de una columna a elección"
   ]
  },
  {
   "cell_type": "code",
   "execution_count": 13,
   "id": "1c85e2e6",
   "metadata": {},
   "outputs": [
    {
     "data": {
      "text/plain": [
       "species               0\n",
       "island                0\n",
       "culmen_length_mm      2\n",
       "culmen_depth_mm       2\n",
       "flipper_length_mm    36\n",
       "body_mass_g           2\n",
       "sex                  10\n",
       "dtype: int64"
      ]
     },
     "execution_count": 13,
     "metadata": {},
     "output_type": "execute_result"
    }
   ],
   "source": [
    "# Veamos cuales tienen valores nulos y elejimos una columna\n",
    "# en este caso usaremos la columna \"sex\"\n",
    "df_pinguinos.apply(lambda x: sum(x.isnull()),axis=0)"
   ]
  },
  {
   "cell_type": "code",
   "execution_count": 14,
   "id": "a14e170a",
   "metadata": {},
   "outputs": [],
   "source": [
    "#Creamos training set y test_set\n",
    "#Ocupamos la tabla sin nulos para crear los modelos de predicción y luego aplicarlo en buscar los valores nulos.\n",
    "\n",
    "features = [ \"species\",\"island\",\"culmen_length_mm\",\"culmen_depth_mm\",\"flipper_length_mm\", \"body_mass_g\"]\n",
    "target= \"sex\"\n",
    "\n",
    "train, test = train_test_split(df_pinguinos_not_null, test_size=0.3)\n",
    "training_set, train_target = train[features], train[target]\n",
    "test_set, test_target = test[features], test[target]"
   ]
  },
  {
   "cell_type": "code",
   "execution_count": 15,
   "id": "f5ea624d",
   "metadata": {},
   "outputs": [
    {
     "data": {
      "text/plain": [
       "array([[ 1.18932425, -0.94139659,  0.9299011 , -1.28918383,  0.77815924,\n",
       "         0.54131371],\n",
       "       [ 1.18932425, -0.94139659,  0.87476862, -0.42179102,  1.50218866,\n",
       "         2.2449032 ],\n",
       "       [-1.07092998,  0.39436884, -0.83433814,  0.39457869, -0.95951137,\n",
       "        -1.10032706],\n",
       "       ...,\n",
       "       [-1.07092998, -0.94139659, -0.99973557,  0.08844005, -0.16307901,\n",
       "        -0.54278868],\n",
       "       [-1.07092998,  0.39436884, -2.01049763, -0.47281412, -1.68354079,\n",
       "        -1.59591673],\n",
       "       [-1.07092998,  1.73013428, -0.98135808,  1.00685597, -0.45269078,\n",
       "        -0.91448094]])"
      ]
     },
     "execution_count": 15,
     "metadata": {},
     "output_type": "execute_result"
    }
   ],
   "source": [
    "#Normalizamos nuevamente ahora con las nuevas features\n",
    "scaler = StandardScaler()\n",
    "\n",
    "training_set = scaler.fit_transform(training_set)\n",
    "test_set = scaler.transform(test_set)\n",
    "\n",
    "training_set"
   ]
  },
  {
   "cell_type": "markdown",
   "id": "e19c94a6",
   "metadata": {},
   "source": [
    "## Modelos predictivos:"
   ]
  },
  {
   "cell_type": "code",
   "execution_count": 16,
   "id": "343b5448",
   "metadata": {},
   "outputs": [
    {
     "name": "stdout",
     "output_type": "stream",
     "text": [
      "Accuracy:  0.87\n",
      "MSE: 0.13186813186813187\n"
     ]
    }
   ],
   "source": [
    "from sklearn.tree import DecisionTreeClassifier\n",
    "\n",
    "target = 'sex'\n",
    "model_tree = DecisionTreeClassifier()\n",
    "training_and_eval(model_tree, training_set, test_set, train_target, test_target)"
   ]
  },
  {
   "cell_type": "code",
   "execution_count": 17,
   "id": "2543fc89",
   "metadata": {},
   "outputs": [
    {
     "name": "stdout",
     "output_type": "stream",
     "text": [
      "Accuracy:  0.88\n",
      "MSE: 0.12087912087912088\n"
     ]
    }
   ],
   "source": [
    "from sklearn.svm import SVC\n",
    "\n",
    "target = 'sex'\n",
    "model_svc = SVC()\n",
    "training_and_eval(model_svc, training_set, test_set, train_target, test_target)"
   ]
  },
  {
   "cell_type": "code",
   "execution_count": 18,
   "id": "1dede453",
   "metadata": {},
   "outputs": [
    {
     "name": "stdout",
     "output_type": "stream",
     "text": [
      "Accuracy:  0.92\n",
      "MSE: 0.10989010989010989\n"
     ]
    }
   ],
   "source": [
    "from sklearn.neighbors import KNeighborsClassifier\n",
    "\n",
    "target = 'sex'\n",
    "model_kn = KNeighborsClassifier()\n",
    "training_and_eval(model_kn, training_set, test_set, train_target, test_target)"
   ]
  },
  {
   "cell_type": "code",
   "execution_count": 19,
   "id": "014da829",
   "metadata": {},
   "outputs": [],
   "source": [
    "## Vemos el modelo que tiene mejores resultados y lo utilizamos para predecir los valores nulos:"
   ]
  },
  {
   "cell_type": "code",
   "execution_count": 20,
   "id": "07aada8f",
   "metadata": {},
   "outputs": [],
   "source": [
    "from sklearn.preprocessing import LabelEncoder\n",
    "\n",
    "#eliminamos las columnas en donde valores que no sean sex son nulos, ya que dificultan la modelación.\n",
    "df_pinguinos_features_not_null = df_pinguinos.copy().dropna(subset=features)\n",
    "\n",
    "#pasamos las variabla cualitativas a cuantitativas\n",
    "pinguinos_variables = ['species', 'island']\n",
    "label_encoder2 = LabelEncoder()\n",
    "for i in pinguinos_variables:\n",
    "    df_pinguinos_features_not_null[i] = label_encoder2.fit_transform(df_pinguinos_features_not_null[i])\n",
    "\n",
    "#"
   ]
  },
  {
   "cell_type": "code",
   "execution_count": 21,
   "id": "40c8fc22",
   "metadata": {},
   "outputs": [
    {
     "data": {
      "text/html": [
       "<div>\n",
       "<style scoped>\n",
       "    .dataframe tbody tr th:only-of-type {\n",
       "        vertical-align: middle;\n",
       "    }\n",
       "\n",
       "    .dataframe tbody tr th {\n",
       "        vertical-align: top;\n",
       "    }\n",
       "\n",
       "    .dataframe thead th {\n",
       "        text-align: right;\n",
       "    }\n",
       "</style>\n",
       "<table border=\"1\" class=\"dataframe\">\n",
       "  <thead>\n",
       "    <tr style=\"text-align: right;\">\n",
       "      <th></th>\n",
       "      <th>species</th>\n",
       "      <th>island</th>\n",
       "      <th>culmen_length_mm</th>\n",
       "      <th>culmen_depth_mm</th>\n",
       "      <th>flipper_length_mm</th>\n",
       "      <th>body_mass_g</th>\n",
       "      <th>sex</th>\n",
       "    </tr>\n",
       "  </thead>\n",
       "  <tbody>\n",
       "    <tr>\n",
       "      <th>8</th>\n",
       "      <td>0</td>\n",
       "      <td>2</td>\n",
       "      <td>34.1</td>\n",
       "      <td>18.1</td>\n",
       "      <td>193.0</td>\n",
       "      <td>3475.0</td>\n",
       "      <td>NaN</td>\n",
       "    </tr>\n",
       "    <tr>\n",
       "      <th>9</th>\n",
       "      <td>0</td>\n",
       "      <td>2</td>\n",
       "      <td>42.0</td>\n",
       "      <td>20.2</td>\n",
       "      <td>190.0</td>\n",
       "      <td>4250.0</td>\n",
       "      <td>NaN</td>\n",
       "    </tr>\n",
       "    <tr>\n",
       "      <th>10</th>\n",
       "      <td>0</td>\n",
       "      <td>2</td>\n",
       "      <td>37.8</td>\n",
       "      <td>17.1</td>\n",
       "      <td>186.0</td>\n",
       "      <td>3300.0</td>\n",
       "      <td>NaN</td>\n",
       "    </tr>\n",
       "    <tr>\n",
       "      <th>47</th>\n",
       "      <td>0</td>\n",
       "      <td>1</td>\n",
       "      <td>37.5</td>\n",
       "      <td>18.9</td>\n",
       "      <td>179.0</td>\n",
       "      <td>2975.0</td>\n",
       "      <td>NaN</td>\n",
       "    </tr>\n",
       "    <tr>\n",
       "      <th>246</th>\n",
       "      <td>2</td>\n",
       "      <td>0</td>\n",
       "      <td>44.5</td>\n",
       "      <td>14.3</td>\n",
       "      <td>216.0</td>\n",
       "      <td>4100.0</td>\n",
       "      <td>NaN</td>\n",
       "    </tr>\n",
       "    <tr>\n",
       "      <th>286</th>\n",
       "      <td>2</td>\n",
       "      <td>0</td>\n",
       "      <td>46.2</td>\n",
       "      <td>14.4</td>\n",
       "      <td>214.0</td>\n",
       "      <td>4650.0</td>\n",
       "      <td>NaN</td>\n",
       "    </tr>\n",
       "    <tr>\n",
       "      <th>324</th>\n",
       "      <td>2</td>\n",
       "      <td>0</td>\n",
       "      <td>47.3</td>\n",
       "      <td>13.8</td>\n",
       "      <td>216.0</td>\n",
       "      <td>4725.0</td>\n",
       "      <td>NaN</td>\n",
       "    </tr>\n",
       "  </tbody>\n",
       "</table>\n",
       "</div>"
      ],
      "text/plain": [
       "     species  island  culmen_length_mm  culmen_depth_mm  flipper_length_mm  \\\n",
       "8          0       2              34.1             18.1              193.0   \n",
       "9          0       2              42.0             20.2              190.0   \n",
       "10         0       2              37.8             17.1              186.0   \n",
       "47         0       1              37.5             18.9              179.0   \n",
       "246        2       0              44.5             14.3              216.0   \n",
       "286        2       0              46.2             14.4              214.0   \n",
       "324        2       0              47.3             13.8              216.0   \n",
       "\n",
       "     body_mass_g  sex  \n",
       "8         3475.0  NaN  \n",
       "9         4250.0  NaN  \n",
       "10        3300.0  NaN  \n",
       "47        2975.0  NaN  \n",
       "246       4100.0  NaN  \n",
       "286       4650.0  NaN  \n",
       "324       4725.0  NaN  "
      ]
     },
     "execution_count": 21,
     "metadata": {},
     "output_type": "execute_result"
    }
   ],
   "source": [
    "#elegimos solo las filas donde \"sex\" sea nulo\n",
    "\n",
    "df_pinguinos_to_fill = df_pinguinos_features_not_null[df_pinguinos_features_not_null[\"sex\"].isna()]\n",
    "df_pinguinos_to_fill"
   ]
  },
  {
   "cell_type": "code",
   "execution_count": 22,
   "id": "9bbd088a",
   "metadata": {},
   "outputs": [],
   "source": [
    "#prediccion de los valores\n",
    "x_values= scaler.transform(df_pinguinos_to_fill[features])"
   ]
  },
  {
   "cell_type": "code",
   "execution_count": 23,
   "id": "2a4ccb03",
   "metadata": {},
   "outputs": [
    {
     "data": {
      "text/plain": [
       "array([1, 2, 1, 1, 1, 1, 1])"
      ]
     },
     "execution_count": 23,
     "metadata": {},
     "output_type": "execute_result"
    }
   ],
   "source": [
    "#prediccion usando tree\n",
    "predictions = model_tree.predict(x_values)\n",
    "predictions"
   ]
  },
  {
   "cell_type": "code",
   "execution_count": 77,
   "id": "b4f5ba4b",
   "metadata": {},
   "outputs": [
    {
     "data": {
      "text/plain": [
       "species             -0.353553\n",
       "island               0.440959\n",
       "culmen_length_mm     0.058099\n",
       "culmen_depth_mm      0.610424\n",
       "flipper_length_mm   -0.255934\n",
       "body_mass_g          0.209880\n",
       "sex                  1.000000\n",
       "Name: sex, dtype: float64"
      ]
     },
     "execution_count": 77,
     "metadata": {},
     "output_type": "execute_result"
    }
   ],
   "source": [
    "df_pinguinos_tabla_final= df_pinguinos_to_fill.copy()\n",
    "df_pinguinos_to_fill['sex'] = predictions.tolist()\n",
    "df_pinguinos_to_fill = df_pinguinos_to_fill.reset_index(drop=True)\n",
    "df_pinguinos_to_fill"
   ]
  },
  {
   "cell_type": "markdown",
   "id": "09583d53",
   "metadata": {},
   "source": [
    "## Reducción de dimensionalidad y visualización"
   ]
  },
  {
   "cell_type": "code",
   "execution_count": 34,
   "id": "0043f4ce",
   "metadata": {},
   "outputs": [
    {
     "data": {
      "text/html": [
       "<div>\n",
       "<style scoped>\n",
       "    .dataframe tbody tr th:only-of-type {\n",
       "        vertical-align: middle;\n",
       "    }\n",
       "\n",
       "    .dataframe tbody tr th {\n",
       "        vertical-align: top;\n",
       "    }\n",
       "\n",
       "    .dataframe thead th {\n",
       "        text-align: right;\n",
       "    }\n",
       "</style>\n",
       "<table border=\"1\" class=\"dataframe\">\n",
       "  <thead>\n",
       "    <tr style=\"text-align: right;\">\n",
       "      <th></th>\n",
       "      <th>principal component 1</th>\n",
       "      <th>principal component 2</th>\n",
       "    </tr>\n",
       "  </thead>\n",
       "  <tbody>\n",
       "    <tr>\n",
       "      <th>0</th>\n",
       "      <td>-2.004310</td>\n",
       "      <td>-1.434704</td>\n",
       "    </tr>\n",
       "    <tr>\n",
       "      <th>1</th>\n",
       "      <td>2.390572</td>\n",
       "      <td>-0.521272</td>\n",
       "    </tr>\n",
       "    <tr>\n",
       "      <th>2</th>\n",
       "      <td>-1.370067</td>\n",
       "      <td>-1.818469</td>\n",
       "    </tr>\n",
       "    <tr>\n",
       "      <th>3</th>\n",
       "      <td>1.940561</td>\n",
       "      <td>1.436769</td>\n",
       "    </tr>\n",
       "    <tr>\n",
       "      <th>4</th>\n",
       "      <td>2.586230</td>\n",
       "      <td>-0.449414</td>\n",
       "    </tr>\n",
       "    <tr>\n",
       "      <th>...</th>\n",
       "      <td>...</td>\n",
       "      <td>...</td>\n",
       "    </tr>\n",
       "    <tr>\n",
       "      <th>205</th>\n",
       "      <td>-0.910038</td>\n",
       "      <td>0.495187</td>\n",
       "    </tr>\n",
       "    <tr>\n",
       "      <th>206</th>\n",
       "      <td>-2.519912</td>\n",
       "      <td>0.930856</td>\n",
       "    </tr>\n",
       "    <tr>\n",
       "      <th>207</th>\n",
       "      <td>-1.754549</td>\n",
       "      <td>0.550492</td>\n",
       "    </tr>\n",
       "    <tr>\n",
       "      <th>208</th>\n",
       "      <td>1.781627</td>\n",
       "      <td>1.381420</td>\n",
       "    </tr>\n",
       "    <tr>\n",
       "      <th>209</th>\n",
       "      <td>-0.542493</td>\n",
       "      <td>-1.000218</td>\n",
       "    </tr>\n",
       "  </tbody>\n",
       "</table>\n",
       "<p>210 rows × 2 columns</p>\n",
       "</div>"
      ],
      "text/plain": [
       "     principal component 1  principal component 2\n",
       "0                -2.004310              -1.434704\n",
       "1                 2.390572              -0.521272\n",
       "2                -1.370067              -1.818469\n",
       "3                 1.940561               1.436769\n",
       "4                 2.586230              -0.449414\n",
       "..                     ...                    ...\n",
       "205              -0.910038               0.495187\n",
       "206              -2.519912               0.930856\n",
       "207              -1.754549               0.550492\n",
       "208               1.781627               1.381420\n",
       "209              -0.542493              -1.000218\n",
       "\n",
       "[210 rows x 2 columns]"
      ]
     },
     "execution_count": 34,
     "metadata": {},
     "output_type": "execute_result"
    }
   ],
   "source": [
    "from sklearn.decomposition import PCA\n",
    "## Investigando de aquí https://towardsdatascience.com/pca-using-python-scikit-learn-e653f8989e60\n",
    "\n",
    "pca = PCA(n_components=2)\n",
    "principalComponents = pca.fit_transform(training_set_pca)\n",
    "principalDf = pd.DataFrame(data = principalComponents\n",
    "             , columns = ['principal component 1', 'principal component 2'])\n",
    "principalDf"
   ]
  },
  {
   "cell_type": "code",
   "execution_count": 67,
   "id": "84c42d89",
   "metadata": {},
   "outputs": [
    {
     "data": {
      "text/html": [
       "<div>\n",
       "<style scoped>\n",
       "    .dataframe tbody tr th:only-of-type {\n",
       "        vertical-align: middle;\n",
       "    }\n",
       "\n",
       "    .dataframe tbody tr th {\n",
       "        vertical-align: top;\n",
       "    }\n",
       "\n",
       "    .dataframe thead th {\n",
       "        text-align: right;\n",
       "    }\n",
       "</style>\n",
       "<table border=\"1\" class=\"dataframe\">\n",
       "  <thead>\n",
       "    <tr style=\"text-align: right;\">\n",
       "      <th></th>\n",
       "      <th>principal component 1</th>\n",
       "      <th>principal component 2</th>\n",
       "      <th>species</th>\n",
       "    </tr>\n",
       "  </thead>\n",
       "  <tbody>\n",
       "    <tr>\n",
       "      <th>0</th>\n",
       "      <td>-2.004310</td>\n",
       "      <td>-1.434704</td>\n",
       "      <td>0</td>\n",
       "    </tr>\n",
       "    <tr>\n",
       "      <th>1</th>\n",
       "      <td>2.390572</td>\n",
       "      <td>-0.521272</td>\n",
       "      <td>2</td>\n",
       "    </tr>\n",
       "    <tr>\n",
       "      <th>2</th>\n",
       "      <td>-1.370067</td>\n",
       "      <td>-1.818469</td>\n",
       "      <td>0</td>\n",
       "    </tr>\n",
       "    <tr>\n",
       "      <th>3</th>\n",
       "      <td>1.940561</td>\n",
       "      <td>1.436769</td>\n",
       "      <td>2</td>\n",
       "    </tr>\n",
       "    <tr>\n",
       "      <th>4</th>\n",
       "      <td>2.586230</td>\n",
       "      <td>-0.449414</td>\n",
       "      <td>2</td>\n",
       "    </tr>\n",
       "    <tr>\n",
       "      <th>...</th>\n",
       "      <td>...</td>\n",
       "      <td>...</td>\n",
       "      <td>...</td>\n",
       "    </tr>\n",
       "    <tr>\n",
       "      <th>205</th>\n",
       "      <td>-0.910038</td>\n",
       "      <td>0.495187</td>\n",
       "      <td>1</td>\n",
       "    </tr>\n",
       "    <tr>\n",
       "      <th>206</th>\n",
       "      <td>-2.519912</td>\n",
       "      <td>0.930856</td>\n",
       "      <td>0</td>\n",
       "    </tr>\n",
       "    <tr>\n",
       "      <th>207</th>\n",
       "      <td>-1.754549</td>\n",
       "      <td>0.550492</td>\n",
       "      <td>0</td>\n",
       "    </tr>\n",
       "    <tr>\n",
       "      <th>208</th>\n",
       "      <td>1.781627</td>\n",
       "      <td>1.381420</td>\n",
       "      <td>2</td>\n",
       "    </tr>\n",
       "    <tr>\n",
       "      <th>209</th>\n",
       "      <td>-0.542493</td>\n",
       "      <td>-1.000218</td>\n",
       "      <td>0</td>\n",
       "    </tr>\n",
       "  </tbody>\n",
       "</table>\n",
       "<p>210 rows × 3 columns</p>\n",
       "</div>"
      ],
      "text/plain": [
       "     principal component 1  principal component 2  species\n",
       "0                -2.004310              -1.434704        0\n",
       "1                 2.390572              -0.521272        2\n",
       "2                -1.370067              -1.818469        0\n",
       "3                 1.940561               1.436769        2\n",
       "4                 2.586230              -0.449414        2\n",
       "..                     ...                    ...      ...\n",
       "205              -0.910038               0.495187        1\n",
       "206              -2.519912               0.930856        0\n",
       "207              -1.754549               0.550492        0\n",
       "208               1.781627               1.381420        2\n",
       "209              -0.542493              -1.000218        0\n",
       "\n",
       "[210 rows x 3 columns]"
      ]
     },
     "execution_count": 67,
     "metadata": {},
     "output_type": "execute_result"
    }
   ],
   "source": [
    "df_pinguinos_species= df_pinguinos.copy().dropna()\n",
    "principalDf[\"species\"]= train_target.tolist()\n",
    "principalDf"
   ]
  },
  {
   "cell_type": "code",
   "execution_count": 68,
   "id": "d69141b9",
   "metadata": {},
   "outputs": [
    {
     "data": {
      "text/plain": [
       "array(['Adelie', 'Chinstrap', 'Gentoo'], dtype=object)"
      ]
     },
     "execution_count": 68,
     "metadata": {},
     "output_type": "execute_result"
    }
   ],
   "source": [
    "#vemos los valores de las especies para graficarlos\n",
    "pd.concat([df_pinguinos_species['species']]).unique()"
   ]
  },
  {
   "cell_type": "code",
   "execution_count": 70,
   "id": "48d0f38d",
   "metadata": {},
   "outputs": [
    {
     "data": {
      "image/png": "[encoded data removed]",
      "text/plain": [
       "<Figure size 576x576 with 1 Axes>"
      ]
     },
     "metadata": {
      "needs_background": "light"
     },
     "output_type": "display_data"
    }
   ],
   "source": [
    "## Codigo obtenido de https://towardsdatascience.com/pca-using-python-scikit-learn-e653f8989e60\n",
    "fig = plt.figure(figsize = (8,8))\n",
    "ax = fig.add_subplot(1,1,1) \n",
    "ax.set_xlabel('Principal Component 1', fontsize = 15)\n",
    "ax.set_ylabel('Principal Component 2', fontsize = 15)\n",
    "ax.set_title('2 component PCA', fontsize = 20)\n",
    "targets = [0, 1, 2]\n",
    "colors = ['r', 'g', 'b']\n",
    "for target, color in zip(targets,colors):\n",
    "    indicesToKeep = principalDf['species'] == target\n",
    "    ax.scatter(principalDf.loc[indicesToKeep, 'principal component 1']\n",
    "               , principalDf.loc[indicesToKeep, 'principal component 2']\n",
    "               , c = color\n",
    "               , s = 50)\n",
    "ax.legend(targets)\n",
    "ax.grid()"
   ]
  },
  {
   "cell_type": "code",
   "execution_count": null,
   "id": "e650e452",
   "metadata": {},
   "outputs": [],
   "source": []
  }
 ],
 "metadata": {
  "kernelspec": {
   "display_name": "Python 3",
   "language": "python",
   "name": "python3"
  },
  "language_info": {
   "codemirror_mode": {
    "name": "ipython",
    "version": 3
   },
   "file_extension": ".py",
   "mimetype": "text/x-python",
   "name": "python",
   "nbconvert_exporter": "python",
   "pygments_lexer": "ipython3",
   "version": "3.7.8"
  }
 },
 "nbformat": 4,
 "nbformat_minor": 5
}
